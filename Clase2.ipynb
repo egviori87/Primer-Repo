{
 "cells": [
  {
   "cell_type": "code",
   "execution_count": 16,
   "metadata": {},
   "outputs": [
    {
     "name": "stdout",
     "output_type": "stream",
     "text": [
      "El segundo número es más grande\n"
     ]
    }
   ],
   "source": [
    "a = int(input(\"Dame primer un número\"))\n",
    "b = int(input(\"Dame 2do número\"))\n",
    "if a > b :\n",
    "    print(\"El primer número es más grande\")\n",
    "else :\n",
    "    print(\"El segundo número es más grande\")\n"
   ]
  },
  {
   "cell_type": "code",
   "execution_count": 17,
   "metadata": {},
   "outputs": [
    {
     "name": "stdout",
     "output_type": "stream",
     "text": [
      "Ambos son iguales\n"
     ]
    }
   ],
   "source": [
    "a = int(input(\"Dame primer un número\"))\n",
    "b = int(input(\"Dame 2do número\"))\n",
    "if a > b :\n",
    "    print(\"El primer número es más grande\")\n",
    "elif b > a :\n",
    "    print(f\"{b} es mayor\")\n",
    "else :\n",
    "    print(\"Ambos son iguales\")"
   ]
  },
  {
   "cell_type": "markdown",
   "metadata": {},
   "source": [
    "##LISTAS"
   ]
  },
  {
   "cell_type": "code",
   "execution_count": 18,
   "metadata": {},
   "outputs": [
    {
     "name": "stdout",
     "output_type": "stream",
     "text": [
      "['dragon ball super', 'Naruto', 'Cell at work']\n",
      "dragon ball super\n",
      "['dragon ball super', 'Naruto', 'Cell at work', 'Otro']\n"
     ]
    },
    {
     "data": {
      "text/plain": [
       "['dragon ball super', 'Naruto']"
      ]
     },
     "execution_count": 18,
     "metadata": {},
     "output_type": "execute_result"
    }
   ],
   "source": [
    "mis_mangas = [\"dragon ball super\",\"Naruto\",\"Cell at work\"]\n",
    "print(mis_mangas)\n",
    "print(mis_mangas[0])\n",
    "mis_mangas.append('Otro')\n",
    "print(mis_mangas)\n",
    "mis_mangas[0:2]"
   ]
  },
  {
   "cell_type": "code",
   "execution_count": 19,
   "metadata": {},
   "outputs": [
    {
     "data": {
      "text/plain": [
       "'del vagab'"
      ]
     },
     "execution_count": 19,
     "metadata": {},
     "output_type": "execute_result"
    }
   ],
   "source": [
    "palabra = \"El castillo del vagabundo\"\n",
    "palabra [0:2]\n",
    "palabra [3:11]\n",
    "palabra [12:21]"
   ]
  },
  {
   "cell_type": "code",
   "execution_count": 27,
   "metadata": {},
   "outputs": [
    {
     "name": "stdout",
     "output_type": "stream",
     "text": [
      "[2, 3, 2, 7, 8, 9, 31, 19, 15, 20]\n",
      "[2, 2, 3, 7, 8, 9, 15, 19, 20, 31]\n",
      "[31, 20, 19, 15, 9, 8, 7, 3, 2, 2]\n",
      "11.6\n"
     ]
    }
   ],
   "source": [
    "mis_numeros = [2,3,2,7,8,9,31,19,15,20]\n",
    "print(mis_numeros)\n",
    "mis_numeros.sort()\n",
    "print(mis_numeros)\n",
    "mis_numeros.reverse()\n",
    "print(mis_numeros)\n",
    "mis_numeros.count(2)\n",
    "sum(mis_numeros)\n",
    "promedio = sum(mis_numeros) / len(mis_numeros)\n",
    "print(promedio)"
   ]
  },
  {
   "cell_type": "markdown",
   "metadata": {},
   "source": [
    "$$\\frac{1}-{2}\\sum\n",
    "\n"
   ]
  }
 ],
 "metadata": {
  "kernelspec": {
   "display_name": "Python 3.11.0 64-bit",
   "language": "python",
   "name": "python3"
  },
  "language_info": {
   "codemirror_mode": {
    "name": "ipython",
    "version": 3
   },
   "file_extension": ".py",
   "mimetype": "text/x-python",
   "name": "python",
   "nbconvert_exporter": "python",
   "pygments_lexer": "ipython3",
   "version": "3.11.0"
  },
  "orig_nbformat": 4,
  "vscode": {
   "interpreter": {
    "hash": "c261aea317cc0286b3b3261fbba9abdec21eaa57589985bb7a274bf54d6cc0a7"
   }
  }
 },
 "nbformat": 4,
 "nbformat_minor": 2
}
